{
  "nbformat": 4,
  "nbformat_minor": 0,
  "metadata": {
    "colab": {
      "provenance": [],
      "include_colab_link": true
    },
    "kernelspec": {
      "name": "python3",
      "display_name": "Python 3"
    },
    "language_info": {
      "name": "python"
    }
  },
  "cells": [
    {
      "cell_type": "markdown",
      "metadata": {
        "id": "view-in-github",
        "colab_type": "text"
      },
      "source": [
        "<a href=\"https://colab.research.google.com/github/EHISAMGOLD/Volunteers-Data/blob/master/Python_fundamentals.ipynb\" target=\"_parent\"><img src=\"https://colab.research.google.com/assets/colab-badge.svg\" alt=\"Open In Colab\"/></a>"
      ]
    },
    {
      "cell_type": "markdown",
      "source": [
        "\n",
        "\n",
        "```\n",
        "# This is formatted as code\n",
        "```\n",
        "\n",
        "## Variables and Data Types"
      ],
      "metadata": {
        "id": "fPtmzb4ch0qX"
      }
    },
    {
      "cell_type": "markdown",
      "source": [
        "**Numbers**"
      ],
      "metadata": {
        "id": "IyBzJRxqpIiR"
      }
    },
    {
      "cell_type": "code",
      "source": [
        "# Integer\n",
        "age = 38\n",
        "print(age)\n",
        "\n",
        "# Floating\n",
        "weight = 6.5\n",
        "print(weight)\n"
      ],
      "metadata": {
        "id": "5nN4CD74h3vO",
        "colab": {
          "base_uri": "https://localhost:8080/"
        },
        "outputId": "6f6736c9-5145-49af-a77d-9d2d63e1f19b"
      },
      "execution_count": null,
      "outputs": [
        {
          "output_type": "stream",
          "name": "stdout",
          "text": [
            "38\n",
            "6.5\n"
          ]
        }
      ]
    },
    {
      "cell_type": "markdown",
      "source": [
        "**Strings**"
      ],
      "metadata": {
        "id": "ajfw3uy3pedE"
      }
    },
    {
      "cell_type": "code",
      "source": [
        "name = \"John Doe\"\n",
        "print(name)\n",
        "\n",
        "message = 'Hello, World!'\n",
        "print(message)\n",
        "\n",
        "# slice\n",
        "print(message[0])\n",
        "print(message[:3])\n",
        "print(message[2:4])\n",
        "\n",
        "# concatenating\n",
        "print(\"Welcome \" + name)\n"
      ],
      "metadata": {
        "colab": {
          "base_uri": "https://localhost:8080/"
        },
        "id": "s43_Dk7npoQI",
        "outputId": "654eabb7-e9f7-4b0f-ada2-b94e1a5b77bd"
      },
      "execution_count": null,
      "outputs": [
        {
          "output_type": "stream",
          "name": "stdout",
          "text": [
            "John Doe\n",
            "Hello, World!\n",
            "H\n",
            "Hel\n",
            "ll\n",
            "Welcome John Doe\n"
          ]
        }
      ]
    },
    {
      "cell_type": "markdown",
      "source": [
        "**Boolean**"
      ],
      "metadata": {
        "id": "RtwSqCepwDWL"
      }
    },
    {
      "cell_type": "code",
      "source": [
        "is_student = True\n",
        "print(is_student)\n",
        "\n",
        "has_passed_exam = False\n",
        "print(has_passed_exam)"
      ],
      "metadata": {
        "id": "Fmz-YccFv_aQ",
        "colab": {
          "base_uri": "https://localhost:8080/"
        },
        "outputId": "0130ecaf-f355-4ff5-f2ce-0f7acf22d84d"
      },
      "execution_count": null,
      "outputs": [
        {
          "output_type": "stream",
          "name": "stdout",
          "text": [
            "True\n",
            "False\n"
          ]
        }
      ]
    },
    {
      "cell_type": "markdown",
      "source": [
        "## Collections and Data Structures"
      ],
      "metadata": {
        "id": "0f2E6K3ciO_3"
      }
    },
    {
      "cell_type": "markdown",
      "source": [
        "**Lists**"
      ],
      "metadata": {
        "id": "raraZl6-v8yb"
      }
    },
    {
      "cell_type": "code",
      "source": [
        "my_list = [1, 2, 'hello', True]\n",
        "print(my_list)\n",
        "\n",
        "fruits = [\"apple\", \"banana\", \"orange\"]\n",
        "print(fruits)\n",
        "\n",
        "numbers = [1, 2, 3, 4, 5]\n",
        "print(numbers)\n",
        "\n",
        "# slice\n",
        "print(fruits[0])\n",
        "print(fruits[:2])\n",
        "print(fruits[2:3])\n",
        "\n",
        "# concatenating\n",
        "print(numbers * 2)\n",
        "print(numbers + fruits)\n",
        "\n",
        "# length\n",
        "print(len(fruits))"
      ],
      "metadata": {
        "id": "dCRHPuK0wYI3",
        "colab": {
          "base_uri": "https://localhost:8080/"
        },
        "outputId": "cceed550-5b38-4c6d-bcce-addb629d88d2"
      },
      "execution_count": null,
      "outputs": [
        {
          "output_type": "stream",
          "name": "stdout",
          "text": [
            "[1, 2, 'hello', True]\n",
            "['apple', 'banana', 'orange']\n",
            "[1, 2, 3, 4, 5]\n",
            "apple\n",
            "['apple', 'banana']\n",
            "['orange']\n",
            "[1, 2, 3, 4, 5, 1, 2, 3, 4, 5]\n",
            "[1, 2, 3, 4, 5, 'apple', 'banana', 'orange']\n",
            "3\n"
          ]
        }
      ]
    },
    {
      "cell_type": "markdown",
      "source": [
        "**Dictionaries**"
      ],
      "metadata": {
        "id": "Hgg6rWr-xfYV"
      }
    },
    {
      "cell_type": "code",
      "source": [
        "person = {\n",
        "    \"name\": \"Alice\",\n",
        "    \"age\": 30,\n",
        "    \"city\": \"New York\"\n",
        "}\n",
        "print(person)\n"
      ],
      "metadata": {
        "id": "1HL2FOZOxqoy",
        "colab": {
          "base_uri": "https://localhost:8080/"
        },
        "outputId": "dc751098-3b46-41a3-e15e-67f91877e002"
      },
      "execution_count": null,
      "outputs": [
        {
          "output_type": "stream",
          "name": "stdout",
          "text": [
            "{'name': 'Alice', 'age': 30, 'city': 'New York'}\n"
          ]
        }
      ]
    },
    {
      "cell_type": "markdown",
      "source": [
        "**Tuples**"
      ],
      "metadata": {
        "id": "lkVwBiWsyVU2"
      }
    },
    {
      "cell_type": "code",
      "source": [
        "my_tuple = (1, 2, 'hello', True)\n",
        "print(my_tuple)"
      ],
      "metadata": {
        "id": "yZYAvIScyY00",
        "colab": {
          "base_uri": "https://localhost:8080/"
        },
        "outputId": "a8f87155-8d1e-4816-e615-ca7172eceb02"
      },
      "execution_count": null,
      "outputs": [
        {
          "output_type": "stream",
          "name": "stdout",
          "text": [
            "(1, 2, 'hello', True)\n"
          ]
        }
      ]
    },
    {
      "cell_type": "markdown",
      "source": [
        "**Sets**"
      ],
      "metadata": {
        "id": "rZDS-PVtzHjW"
      }
    },
    {
      "cell_type": "code",
      "source": [
        "my_set = {1, 2, 3, 4, 5}\n",
        "print(my_set)"
      ],
      "metadata": {
        "id": "QoZ_zjjxzOel",
        "colab": {
          "base_uri": "https://localhost:8080/"
        },
        "outputId": "08343ea7-d4fc-4dde-d609-81c16c7fbf6a"
      },
      "execution_count": null,
      "outputs": [
        {
          "output_type": "stream",
          "name": "stdout",
          "text": [
            "{1, 2, 3, 4, 5}\n"
          ]
        }
      ]
    },
    {
      "cell_type": "markdown",
      "source": [
        "## Control Structures"
      ],
      "metadata": {
        "id": "LOkQvxXGiGHw"
      }
    },
    {
      "cell_type": "markdown",
      "source": [
        "**Conditional Statements**"
      ],
      "metadata": {
        "id": "kUjidvYXzaQy"
      }
    },
    {
      "cell_type": "code",
      "source": [
        "age = 25\n",
        "\n",
        "if age < 18:\n",
        "    print(\"You are underage.\")\n",
        "elif age >= 18 and age < 65:\n",
        "    print(\"You are an adult.\")\n",
        "else:\n",
        "    print(\"You are a senior citizen.\")"
      ],
      "metadata": {
        "id": "vok5ny2biJqI",
        "colab": {
          "base_uri": "https://localhost:8080/"
        },
        "outputId": "c66ae853-189b-4791-b4f6-5ad5f2653876"
      },
      "execution_count": null,
      "outputs": [
        {
          "output_type": "stream",
          "name": "stdout",
          "text": [
            "You are an adult.\n"
          ]
        }
      ]
    },
    {
      "cell_type": "markdown",
      "source": [
        "**Loops**"
      ],
      "metadata": {
        "id": "DehKAdImzjAO"
      }
    },
    {
      "cell_type": "code",
      "source": [
        "fruits = [\"apple\", \"banana\", \"cherry\"]\n",
        "\n",
        "# Using a for loop to iterate over a list\n",
        "for fruit in fruits:\n",
        "    print(fruit)\n",
        "\n",
        "# Using a while loop to repeat a block of code\n",
        "count = 0\n",
        "while count < 5:\n",
        "    print(\"Count:\", count)\n",
        "    count += 1\n"
      ],
      "metadata": {
        "id": "BefSRkVGzo2U",
        "colab": {
          "base_uri": "https://localhost:8080/"
        },
        "outputId": "f172db01-2834-4b3a-e9e6-7a0e60b82451"
      },
      "execution_count": null,
      "outputs": [
        {
          "output_type": "stream",
          "name": "stdout",
          "text": [
            "apple\n",
            "banana\n",
            "cherry\n",
            "Count: 0\n",
            "Count: 1\n",
            "Count: 2\n",
            "Count: 3\n",
            "Count: 4\n"
          ]
        }
      ]
    },
    {
      "cell_type": "markdown",
      "source": [
        "## Functions and Modules\n"
      ],
      "metadata": {
        "id": "1TuIyPLRiR-N"
      }
    },
    {
      "cell_type": "markdown",
      "source": [
        "**Functions**"
      ],
      "metadata": {
        "id": "kVzSMMLt0Nd8"
      }
    },
    {
      "cell_type": "code",
      "source": [
        "def square(num):\n",
        "    return num ** 2\n",
        "\n",
        "result = square(5)\n",
        "print(result)\n"
      ],
      "metadata": {
        "colab": {
          "base_uri": "https://localhost:8080/"
        },
        "id": "lnhE4zAX0Td8",
        "outputId": "6d430897-3d22-43c3-dcdb-a3a6310fce0d"
      },
      "execution_count": null,
      "outputs": [
        {
          "output_type": "stream",
          "name": "stdout",
          "text": [
            "25\n"
          ]
        }
      ]
    },
    {
      "cell_type": "markdown",
      "source": [
        "**Lambda functions**"
      ],
      "metadata": {
        "id": "6Ii3NW471Bap"
      }
    },
    {
      "cell_type": "code",
      "source": [
        "sum = lambda arg1, arg2: arg1 + arg2;\n",
        "\n",
        "# Now you can call sum as a function\n",
        "print(sum( 10, 20 ))"
      ],
      "metadata": {
        "colab": {
          "base_uri": "https://localhost:8080/"
        },
        "id": "q1CyV8Mu1E46",
        "outputId": "8f2a8fe1-887a-4fcc-96b8-1fe7c4366706"
      },
      "execution_count": null,
      "outputs": [
        {
          "output_type": "stream",
          "name": "stdout",
          "text": [
            "30\n"
          ]
        }
      ]
    },
    {
      "cell_type": "code",
      "source": [
        "my_list = [1, 2, 3, 4, 5]\n",
        "list(filter(lambda x: x > 2, my_list))"
      ],
      "metadata": {
        "colab": {
          "base_uri": "https://localhost:8080/"
        },
        "id": "CoZ5V8_M2KME",
        "outputId": "414963a6-92b4-4ee4-ae6a-aac3467442d0"
      },
      "execution_count": null,
      "outputs": [
        {
          "output_type": "execute_result",
          "data": {
            "text/plain": [
              "[3, 4, 5]"
            ]
          },
          "metadata": {},
          "execution_count": 3
        }
      ]
    },
    {
      "cell_type": "markdown",
      "source": [
        "**Import a module**"
      ],
      "metadata": {
        "id": "YnowYIeJ0RGR"
      }
    },
    {
      "cell_type": "code",
      "source": [
        "import module_name\n",
        "\n",
        "result = module_name.function_name(arguments)\n"
      ],
      "metadata": {
        "id": "OrVA-fo90f08"
      },
      "execution_count": null,
      "outputs": []
    },
    {
      "cell_type": "markdown",
      "source": [
        "**Import specific functions from a module**"
      ],
      "metadata": {
        "id": "LG8D4uv70kVd"
      }
    },
    {
      "cell_type": "code",
      "source": [
        "from module_name import function_name\n",
        "\n",
        "result = function_name(arguments)\n"
      ],
      "metadata": {
        "id": "aguIB5Yy0qYO"
      },
      "execution_count": null,
      "outputs": []
    },
    {
      "cell_type": "markdown",
      "source": [
        "**Import a module with an alias**"
      ],
      "metadata": {
        "id": "Wf37r4DP0tbB"
      }
    },
    {
      "cell_type": "code",
      "source": [
        "import module_name as alias\n",
        "\n",
        "result = alias.function_name(arguments)\n"
      ],
      "metadata": {
        "id": "-d1Pd5tO0ypb"
      },
      "execution_count": null,
      "outputs": []
    },
    {
      "cell_type": "markdown",
      "source": [
        "**Example using math module**"
      ],
      "metadata": {
        "id": "G8GuiA2F02BI"
      }
    },
    {
      "cell_type": "code",
      "source": [
        "import math\n",
        "\n",
        "result = math.sqrt(25)\n",
        "print(result)  # Output: 5.0\n"
      ],
      "metadata": {
        "colab": {
          "base_uri": "https://localhost:8080/"
        },
        "id": "b2CXkTFP05Pc",
        "outputId": "1eddadf7-e420-4549-f1bb-dd9a90338f73"
      },
      "execution_count": null,
      "outputs": [
        {
          "output_type": "stream",
          "name": "stdout",
          "text": [
            "5.0\n"
          ]
        }
      ]
    },
    {
      "cell_type": "markdown",
      "source": [
        "## File Handling"
      ],
      "metadata": {
        "id": "Y2mQHan9ivKv"
      }
    },
    {
      "cell_type": "markdown",
      "source": [
        "**Open a file**"
      ],
      "metadata": {
        "id": "Gx8JRHSk21Ar"
      }
    },
    {
      "cell_type": "code",
      "source": [
        "file = open('file.txt', 'r')\n",
        "# Opens the file.txt in read mode\n",
        "file = open('file.txt', 'x')"
      ],
      "metadata": {
        "id": "MAvf_cqxfY3o"
      },
      "execution_count": null,
      "outputs": []
    },
    {
      "cell_type": "markdown",
      "source": [
        "**Read from a file**"
      ],
      "metadata": {
        "id": "KVbQj_oU25BB"
      }
    },
    {
      "cell_type": "code",
      "source": [
        "content = file.read()\n",
        "content = file.readlines()"
      ],
      "metadata": {
        "id": "Mbz13UA-29X_"
      },
      "execution_count": null,
      "outputs": []
    },
    {
      "cell_type": "markdown",
      "source": [
        "**Write to a file**"
      ],
      "metadata": {
        "id": "AQJGLYlR3X5n"
      }
    },
    {
      "cell_type": "code",
      "source": [
        "file.write('Hello, World!')  # Writes the specified content to the file"
      ],
      "metadata": {
        "id": "z3v0KAm_3ZXI"
      },
      "execution_count": null,
      "outputs": []
    },
    {
      "cell_type": "markdown",
      "source": [
        "**Close the file**"
      ],
      "metadata": {
        "id": "MxiWiAFi3gXy"
      }
    },
    {
      "cell_type": "code",
      "source": [
        "file.close()  # Closes the file"
      ],
      "metadata": {
        "id": "NwIKhflp3oG4"
      },
      "execution_count": null,
      "outputs": []
    },
    {
      "cell_type": "markdown",
      "source": [
        "## Exception Handling"
      ],
      "metadata": {
        "id": "Wt8EbzVx3o84"
      }
    },
    {
      "cell_type": "code",
      "source": [
        "try:\n",
        "    # Code that may raise an exception\n",
        "    # ...\n",
        "except ExceptionType:\n",
        "    # Code to handle the exception\n",
        "    # ...\n"
      ],
      "metadata": {
        "id": "kj38l7SI37Xx"
      },
      "execution_count": null,
      "outputs": []
    },
    {
      "cell_type": "code",
      "source": [
        "try:\n",
        "    file = open('file.txt', 'r')\n",
        "    # Code to work with the file\n",
        "    # ...\n",
        "except FileNotFoundError:\n",
        "    print(\"The file does not exist.\")\n",
        "except Exception as e:\n",
        "    print(\"An error occurred:\", str(e))\n",
        "finally:\n",
        "    file.close()\n",
        "# Ensures the file is closed even if an exception occurred\n"
      ],
      "metadata": {
        "id": "LErgekSg4Qxk"
      },
      "execution_count": null,
      "outputs": []
    }
  ]
}